{
 "cells": [
  {
   "cell_type": "markdown",
   "metadata": {},
   "source": [
    "# Delsys FileReaderAPI - Python Overview\n",
    "This document outlines how to directly read SHPF files within a python environment using Delsys' FileReaderAPI.\n",
    "You can run this jupyter notebook example or export to a python script if desired.\n",
    "    \n",
    "## Python Packages (see requirements.txt)\n",
    "1) ipykernel\n",
    "2) pythonnet\n",
    "3) numpy\n",
    "4) plotly\n",
    "5) pandas\n",
    "6) nbformat\n",
    "\n",
    "## How to export this notebook to a Python Script (if desired)\n",
    "\n",
    "1) Open a terminal and run:\n",
    "    ipython nbconvert --to python *.ipynb\n",
    "\n",
    "2) delete:\n",
    "    get_ipython().system('{sys.executable} -m pip install -r requirements.txt')\n",
    "\n",
    "3) wrap the example in a main() function.\n",
    "\n",
    "    def main():\n",
    "        # all your code here\n",
    "\n",
    "4) Add a __name__ function\n",
    "    if __name__ == \"__main__\":\n",
    "        # execute only if run as a script\n",
    "        main()"
   ]
  },
  {
   "cell_type": "markdown",
   "metadata": {},
   "source": [
    "# Python Example\n",
    "## Install requirements that are noted in the requirement.txt file"
   ]
  },
  {
   "cell_type": "code",
   "execution_count": 1,
   "metadata": {},
   "outputs": [
    {
     "name": "stdout",
     "output_type": "stream",
     "text": [
      "Requirement already satisfied: numpy in c:\\users\\jaebeom\\miniforge3\\envs\\delsys\\lib\\site-packages (from -r requirements.txt (line 1)) (2.1.1)\n",
      "Requirement already satisfied: pythonnet in c:\\users\\jaebeom\\miniforge3\\envs\\delsys\\lib\\site-packages (from -r requirements.txt (line 2)) (3.0.3)\n",
      "Requirement already satisfied: plotly in c:\\users\\jaebeom\\miniforge3\\envs\\delsys\\lib\\site-packages (from -r requirements.txt (line 3)) (5.24.1)\n",
      "Requirement already satisfied: pandas in c:\\users\\jaebeom\\miniforge3\\envs\\delsys\\lib\\site-packages (from -r requirements.txt (line 4)) (2.2.3)\n",
      "Requirement already satisfied: ipykernel in c:\\users\\jaebeom\\miniforge3\\envs\\delsys\\lib\\site-packages (from -r requirements.txt (line 5)) (6.29.5)\n",
      "Requirement already satisfied: nbformat in c:\\users\\jaebeom\\miniforge3\\envs\\delsys\\lib\\site-packages (from -r requirements.txt (line 6)) (5.10.4)\n",
      "Requirement already satisfied: clr-loader<0.3.0,>=0.2.6 in c:\\users\\jaebeom\\miniforge3\\envs\\delsys\\lib\\site-packages (from pythonnet->-r requirements.txt (line 2)) (0.2.6)\n",
      "Requirement already satisfied: tenacity>=6.2.0 in c:\\users\\jaebeom\\miniforge3\\envs\\delsys\\lib\\site-packages (from plotly->-r requirements.txt (line 3)) (9.0.0)\n",
      "Requirement already satisfied: packaging in c:\\users\\jaebeom\\miniforge3\\envs\\delsys\\lib\\site-packages (from plotly->-r requirements.txt (line 3)) (24.1)\n",
      "Requirement already satisfied: python-dateutil>=2.8.2 in c:\\users\\jaebeom\\miniforge3\\envs\\delsys\\lib\\site-packages (from pandas->-r requirements.txt (line 4)) (2.9.0.post0)\n",
      "Requirement already satisfied: pytz>=2020.1 in c:\\users\\jaebeom\\miniforge3\\envs\\delsys\\lib\\site-packages (from pandas->-r requirements.txt (line 4)) (2024.2)\n",
      "Requirement already satisfied: tzdata>=2022.7 in c:\\users\\jaebeom\\miniforge3\\envs\\delsys\\lib\\site-packages (from pandas->-r requirements.txt (line 4)) (2024.2)\n",
      "Requirement already satisfied: comm>=0.1.1 in c:\\users\\jaebeom\\miniforge3\\envs\\delsys\\lib\\site-packages (from ipykernel->-r requirements.txt (line 5)) (0.2.2)\n",
      "Requirement already satisfied: debugpy>=1.6.5 in c:\\users\\jaebeom\\miniforge3\\envs\\delsys\\lib\\site-packages (from ipykernel->-r requirements.txt (line 5)) (1.8.6)\n",
      "Requirement already satisfied: ipython>=7.23.1 in c:\\users\\jaebeom\\miniforge3\\envs\\delsys\\lib\\site-packages (from ipykernel->-r requirements.txt (line 5)) (8.28.0)\n",
      "Requirement already satisfied: jupyter-client>=6.1.12 in c:\\users\\jaebeom\\miniforge3\\envs\\delsys\\lib\\site-packages (from ipykernel->-r requirements.txt (line 5)) (8.6.3)\n",
      "Requirement already satisfied: jupyter-core!=5.0.*,>=4.12 in c:\\users\\jaebeom\\miniforge3\\envs\\delsys\\lib\\site-packages (from ipykernel->-r requirements.txt (line 5)) (5.7.2)\n",
      "Requirement already satisfied: matplotlib-inline>=0.1 in c:\\users\\jaebeom\\miniforge3\\envs\\delsys\\lib\\site-packages (from ipykernel->-r requirements.txt (line 5)) (0.1.7)\n",
      "Requirement already satisfied: nest-asyncio in c:\\users\\jaebeom\\miniforge3\\envs\\delsys\\lib\\site-packages (from ipykernel->-r requirements.txt (line 5)) (1.6.0)\n",
      "Requirement already satisfied: psutil in c:\\users\\jaebeom\\miniforge3\\envs\\delsys\\lib\\site-packages (from ipykernel->-r requirements.txt (line 5)) (6.0.0)\n",
      "Requirement already satisfied: pyzmq>=24 in c:\\users\\jaebeom\\miniforge3\\envs\\delsys\\lib\\site-packages (from ipykernel->-r requirements.txt (line 5)) (26.2.0)\n",
      "Requirement already satisfied: tornado>=6.1 in c:\\users\\jaebeom\\miniforge3\\envs\\delsys\\lib\\site-packages (from ipykernel->-r requirements.txt (line 5)) (6.4.1)\n",
      "Requirement already satisfied: traitlets>=5.4.0 in c:\\users\\jaebeom\\miniforge3\\envs\\delsys\\lib\\site-packages (from ipykernel->-r requirements.txt (line 5)) (5.14.3)\n",
      "Requirement already satisfied: fastjsonschema>=2.15 in c:\\users\\jaebeom\\miniforge3\\envs\\delsys\\lib\\site-packages (from nbformat->-r requirements.txt (line 6)) (2.20.0)\n",
      "Requirement already satisfied: jsonschema>=2.6 in c:\\users\\jaebeom\\miniforge3\\envs\\delsys\\lib\\site-packages (from nbformat->-r requirements.txt (line 6)) (4.23.0)\n",
      "Requirement already satisfied: cffi>=1.13 in c:\\users\\jaebeom\\miniforge3\\envs\\delsys\\lib\\site-packages (from clr-loader<0.3.0,>=0.2.6->pythonnet->-r requirements.txt (line 2)) (1.17.1)\n",
      "Requirement already satisfied: decorator in c:\\users\\jaebeom\\miniforge3\\envs\\delsys\\lib\\site-packages (from ipython>=7.23.1->ipykernel->-r requirements.txt (line 5)) (5.1.1)\n",
      "Requirement already satisfied: jedi>=0.16 in c:\\users\\jaebeom\\miniforge3\\envs\\delsys\\lib\\site-packages (from ipython>=7.23.1->ipykernel->-r requirements.txt (line 5)) (0.19.1)\n",
      "Requirement already satisfied: prompt-toolkit<3.1.0,>=3.0.41 in c:\\users\\jaebeom\\miniforge3\\envs\\delsys\\lib\\site-packages (from ipython>=7.23.1->ipykernel->-r requirements.txt (line 5)) (3.0.48)\n",
      "Requirement already satisfied: pygments>=2.4.0 in c:\\users\\jaebeom\\miniforge3\\envs\\delsys\\lib\\site-packages (from ipython>=7.23.1->ipykernel->-r requirements.txt (line 5)) (2.18.0)\n",
      "Requirement already satisfied: stack-data in c:\\users\\jaebeom\\miniforge3\\envs\\delsys\\lib\\site-packages (from ipython>=7.23.1->ipykernel->-r requirements.txt (line 5)) (0.6.3)\n",
      "Requirement already satisfied: colorama in c:\\users\\jaebeom\\miniforge3\\envs\\delsys\\lib\\site-packages (from ipython>=7.23.1->ipykernel->-r requirements.txt (line 5)) (0.4.6)\n",
      "Requirement already satisfied: attrs>=22.2.0 in c:\\users\\jaebeom\\miniforge3\\envs\\delsys\\lib\\site-packages (from jsonschema>=2.6->nbformat->-r requirements.txt (line 6)) (24.2.0)\n",
      "Requirement already satisfied: jsonschema-specifications>=2023.03.6 in c:\\users\\jaebeom\\miniforge3\\envs\\delsys\\lib\\site-packages (from jsonschema>=2.6->nbformat->-r requirements.txt (line 6)) (2023.12.1)\n",
      "Requirement already satisfied: referencing>=0.28.4 in c:\\users\\jaebeom\\miniforge3\\envs\\delsys\\lib\\site-packages (from jsonschema>=2.6->nbformat->-r requirements.txt (line 6)) (0.35.1)\n",
      "Requirement already satisfied: rpds-py>=0.7.1 in c:\\users\\jaebeom\\miniforge3\\envs\\delsys\\lib\\site-packages (from jsonschema>=2.6->nbformat->-r requirements.txt (line 6)) (0.20.0)\n",
      "Requirement already satisfied: platformdirs>=2.5 in c:\\users\\jaebeom\\miniforge3\\envs\\delsys\\lib\\site-packages (from jupyter-core!=5.0.*,>=4.12->ipykernel->-r requirements.txt (line 5)) (4.3.6)\n",
      "Requirement already satisfied: pywin32>=300 in c:\\users\\jaebeom\\miniforge3\\envs\\delsys\\lib\\site-packages (from jupyter-core!=5.0.*,>=4.12->ipykernel->-r requirements.txt (line 5)) (306)\n",
      "Requirement already satisfied: six>=1.5 in c:\\users\\jaebeom\\miniforge3\\envs\\delsys\\lib\\site-packages (from python-dateutil>=2.8.2->pandas->-r requirements.txt (line 4)) (1.16.0)\n",
      "Requirement already satisfied: pycparser in c:\\users\\jaebeom\\miniforge3\\envs\\delsys\\lib\\site-packages (from cffi>=1.13->clr-loader<0.3.0,>=0.2.6->pythonnet->-r requirements.txt (line 2)) (2.22)\n",
      "Requirement already satisfied: parso<0.9.0,>=0.8.3 in c:\\users\\jaebeom\\miniforge3\\envs\\delsys\\lib\\site-packages (from jedi>=0.16->ipython>=7.23.1->ipykernel->-r requirements.txt (line 5)) (0.8.4)\n",
      "Requirement already satisfied: wcwidth in c:\\users\\jaebeom\\miniforge3\\envs\\delsys\\lib\\site-packages (from prompt-toolkit<3.1.0,>=3.0.41->ipython>=7.23.1->ipykernel->-r requirements.txt (line 5)) (0.2.13)\n",
      "Requirement already satisfied: executing>=1.2.0 in c:\\users\\jaebeom\\miniforge3\\envs\\delsys\\lib\\site-packages (from stack-data->ipython>=7.23.1->ipykernel->-r requirements.txt (line 5)) (2.1.0)\n",
      "Requirement already satisfied: asttokens>=2.1.0 in c:\\users\\jaebeom\\miniforge3\\envs\\delsys\\lib\\site-packages (from stack-data->ipython>=7.23.1->ipykernel->-r requirements.txt (line 5)) (2.4.1)\n",
      "Requirement already satisfied: pure-eval in c:\\users\\jaebeom\\miniforge3\\envs\\delsys\\lib\\site-packages (from stack-data->ipython>=7.23.1->ipykernel->-r requirements.txt (line 5)) (0.2.3)\n",
      "Note: you may need to restart the kernel to use updated packages.\n"
     ]
    }
   ],
   "source": [
    "pip install -r requirements.txt"
   ]
  },
  {
   "cell_type": "markdown",
   "metadata": {},
   "source": [
    "## Setup the FileReader\n",
    "\n",
    "First import all dependencies and local python files. Then create the FileReader object by passing it the path to the FileReader.dll (included witth example files)"
   ]
  },
  {
   "cell_type": "code",
   "execution_count": 2,
   "metadata": {},
   "outputs": [],
   "source": [
    "import glob\n",
    "import os\n",
    "import numpy as np\n",
    "import plotly.graph_objects as go\n",
    "from plotly.subplots import make_subplots\n",
    "from File_Reader import File_Reader\n",
    "from DelsysFile import DelsysFile\n",
    "from Component import Component\n",
    "from Channel import Channel\n",
    "\n",
    "#Read File\n",
    "pathToDll = os.path.join(os.getcwd(), \"FileReader.dll\")\n",
    "fileReader = File_Reader(pathToDll)"
   ]
  },
  {
   "cell_type": "markdown",
   "metadata": {},
   "source": [
    "## Choosing a file to read\n",
    "You can read a file by calling the .Read() method and passing the full path to the shpf file.\n",
    "Calling the method ParsedFile() will return a file object that contains all the data from that file."
   ]
  },
  {
   "cell_type": "code",
   "execution_count": 3,
   "metadata": {},
   "outputs": [
    {
     "name": "stdout",
     "output_type": "stream",
     "text": [
      "Loaded File: c:\\Users\\Jaebeom\\Desktop\\Example-Applications-main\\File Reading Examples\\Python API\\FTSTS_000.shpf\n"
     ]
    }
   ],
   "source": [
    "filePath = os.path.join(os.getcwd(), \"Forearm_Pronation_Supination_1.shpf\")\n",
    "\n",
    "fileReader.readFile(filePath)\n",
    "\n",
    "file = fileReader.ParsedFile()\n",
    "\n",
    "fileType = fileReader.FileType()\n",
    "\n",
    "print(\"Loaded File: \" + filePath)"
   ]
  },
  {
   "cell_type": "markdown",
   "metadata": {},
   "source": [
    "## Retrieving Data\n",
    "After the file is parsed all of the individual sensor component objects are stored in a list. The file provided with this example only has one sensor's data, therefore we will reference index 0 to retrieve the first component in that list. If more sensors were used during a collection, you may loop through the sensor objects by using the total number of sensors in the file ie. for i in range(file.ComponentCount()): component = file.Component(i). To see all of the metadata and methods associated with each component object see Component.py "
   ]
  },
  {
   "cell_type": "code",
   "execution_count": 4,
   "metadata": {},
   "outputs": [
    {
     "name": "stdout",
     "output_type": "stream",
     "text": [
      "Component Name: L_GL\n"
     ]
    }
   ],
   "source": [
    "component1 = file.Component(0)\n",
    "channel1 = component1.Channel(0)\n",
    "channel1data = channel1.Data()\n",
    "\n",
    "print(\"Component Name: \" + component1.Name())"
   ]
  },
  {
   "cell_type": "markdown",
   "metadata": {},
   "source": [
    "## Get all data from a component\n",
    "You can get all channel data (for a single sensor component) and other metadata with these method calls."
   ]
  },
  {
   "cell_type": "code",
   "execution_count": 6,
   "metadata": {},
   "outputs": [
    {
     "ename": "AttributeError",
     "evalue": "'Unit' object has no attribute 'name'",
     "output_type": "error",
     "traceback": [
      "\u001b[1;31m---------------------------------------------------------------------------\u001b[0m",
      "\u001b[1;31mAttributeError\u001b[0m                            Traceback (most recent call last)",
      "Cell \u001b[1;32mIn[6], line 4\u001b[0m\n\u001b[0;32m      2\u001b[0m names \u001b[38;5;241m=\u001b[39m component1\u001b[38;5;241m.\u001b[39mGetAllChannelNames()\n\u001b[0;32m      3\u001b[0m sampleRates \u001b[38;5;241m=\u001b[39m component1\u001b[38;5;241m.\u001b[39mGetAllSampleRates()\n\u001b[1;32m----> 4\u001b[0m units \u001b[38;5;241m=\u001b[39m \u001b[43mcomponent1\u001b[49m\u001b[38;5;241;43m.\u001b[39;49m\u001b[43mGetAllUnits\u001b[49m\u001b[43m(\u001b[49m\u001b[43m)\u001b[49m\n\u001b[0;32m      6\u001b[0m \u001b[38;5;28mprint\u001b[39m(\u001b[38;5;124m\"\u001b[39m\u001b[38;5;124mComponent Channel Data:\u001b[39m\u001b[38;5;124m\"\u001b[39m)\n\u001b[0;32m      7\u001b[0m \u001b[38;5;28;01mfor\u001b[39;00m i \u001b[38;5;129;01min\u001b[39;00m \u001b[38;5;28mrange\u001b[39m(\u001b[38;5;28mlen\u001b[39m(data)):\n",
      "File \u001b[1;32mc:\\Users\\Jaebeom\\Desktop\\Example-Applications-main\\File Reading Examples\\Python API\\Component.py:114\u001b[0m, in \u001b[0;36mComponent.GetAllUnits\u001b[1;34m(self)\u001b[0m\n\u001b[0;32m    112\u001b[0m \u001b[38;5;28;01mfor\u001b[39;00m i \u001b[38;5;129;01min\u001b[39;00m \u001b[38;5;28mrange\u001b[39m(channelCount):\n\u001b[0;32m    113\u001b[0m     channel \u001b[38;5;241m=\u001b[39m \u001b[38;5;28mself\u001b[39m\u001b[38;5;241m.\u001b[39mChannel(i)\n\u001b[1;32m--> 114\u001b[0m     units\u001b[38;5;241m.\u001b[39mappend(\u001b[43mchannel\u001b[49m\u001b[38;5;241;43m.\u001b[39;49m\u001b[43mUnits\u001b[49m\u001b[43m(\u001b[49m\u001b[43m)\u001b[49m)\n\u001b[0;32m    115\u001b[0m \u001b[38;5;28;01mreturn\u001b[39;00m units\n",
      "File \u001b[1;32mc:\\Users\\Jaebeom\\Desktop\\Example-Applications-main\\File Reading Examples\\Python API\\Channel.py:25\u001b[0m, in \u001b[0;36mChannel.Units\u001b[1;34m(self)\u001b[0m\n\u001b[0;32m     22\u001b[0m \u001b[38;5;28;01mdef\u001b[39;00m \u001b[38;5;21mUnits\u001b[39m(\u001b[38;5;28mself\u001b[39m) \u001b[38;5;241m-\u001b[39m\u001b[38;5;241m>\u001b[39m \u001b[38;5;28mstr\u001b[39m:\n\u001b[0;32m     23\u001b[0m \u001b[38;5;250m    \u001b[39m\u001b[38;5;124;03m\"\"\"Channel Unit - The unit of measurement for this channel\"\"\"\u001b[39;00m\n\u001b[1;32m---> 25\u001b[0m     units \u001b[38;5;241m=\u001b[39m \u001b[38;5;28mstr\u001b[39m(\u001b[38;5;28;43mself\u001b[39;49m\u001b[38;5;241;43m.\u001b[39;49m\u001b[43mchannel\u001b[49m\u001b[38;5;241;43m.\u001b[39;49m\u001b[43mUnits\u001b[49m\u001b[38;5;241;43m.\u001b[39;49m\u001b[43mname\u001b[49m)\n\u001b[0;32m     26\u001b[0m     \u001b[38;5;28;01mreturn\u001b[39;00m units\n",
      "\u001b[1;31mAttributeError\u001b[0m: 'Unit' object has no attribute 'name'"
     ]
    }
   ],
   "source": [
    "data = component1.GetAllData()\n",
    "names = component1.GetAllChannelNames()\n",
    "sampleRates = component1.GetAllSampleRates()\n",
    "units = component1.GetAllUnits()\n",
    "\n",
    "print(\"Component Channel Data:\")\n",
    "for i in range(len(data)):\n",
    "    print(\"-- Channel: \" + names[i] +\n",
    "          \"  Sample Rate: \" + str(round(sampleRates[i], 2)) +\n",
    "          \"  Unit: \" + units[i] +\n",
    "          \"  Data Length: \" + str(len(data[i])))"
   ]
  },
  {
   "cell_type": "markdown",
   "metadata": {},
   "source": [
    "## Get data from a single channel \n",
    "Each component object contains a list of channel objects. This example will pull the first channel from component1 object. Each channel object has a variety of metadata along with all of the channel data. To see all of the metadata and methods associated with each channel object see Channel.py "
   ]
  },
  {
   "cell_type": "code",
   "execution_count": null,
   "metadata": {},
   "outputs": [],
   "source": [
    "channel1 = component1.Channel(0)\n",
    "print(\"Channel Name: \" + channel1.Name())"
   ]
  },
  {
   "cell_type": "markdown",
   "metadata": {},
   "source": [
    "## Plotting single channel of data\n",
    "Here the EMG data is plotted on its own figure"
   ]
  },
  {
   "cell_type": "code",
   "execution_count": null,
   "metadata": {},
   "outputs": [],
   "source": [
    "fig = make_subplots(rows=1, cols=1)\n",
    "fig.update_layout(\n",
    "title_text=\"EMG Data\"\n",
    ")\n",
    "#x-axes time values based on sampling rates\n",
    "emg_Time = np.arange(len(channel1.Data())) / channel1.SampleRate()\n",
    "\n",
    "#EMG PLot\n",
    "fig.add_trace(go.Scatter(x=emg_Time, y=channel1.Data(),\n",
    "                    mode=\"lines\",\n",
    "                    name='EMG'),\n",
    ")\n",
    "# Set x-axis title\n",
    "fig.update_xaxes(title_text=\"Time (s)\"\n",
    ")\n",
    "# Set y-axes titles\n",
    "fig.update_yaxes(title_text=channel1.Units()\n",
    ")"
   ]
  },
  {
   "cell_type": "markdown",
   "metadata": {},
   "source": [
    "## Plot all data from sensor component\n",
    "Here all of the data is plotted based on the channel type (EMG, ACC, GYRO)"
   ]
  },
  {
   "cell_type": "code",
   "execution_count": null,
   "metadata": {},
   "outputs": [],
   "source": [
    "#Loop through all channels and store each unique type in a list (EMG, ACC, GYRO)\n",
    "channel_types = []\n",
    "for i in range(component1.ChannelCount()):\n",
    "    if component1.Channel(i).ChannelType() not in channel_types:\n",
    "        channel_types.append(component1.Channel(i).ChannelType())\n",
    "\n",
    "#Create a new plot for each channel type\n",
    "fig = make_subplots(rows=len(channel_types), cols=1,\n",
    "                    shared_xaxes=True,\n",
    ")\n",
    "fig.update_layout(\n",
    "title_text=\"All Data\"\n",
    ")\n",
    "\n",
    "#Loop all unique channel types\n",
    "for i in range(len(channel_types)):\n",
    "\n",
    "    #Loop all channel data - if channel type matches, add the channel data to that plot\n",
    "    for k in range(len(data)):\n",
    "        if component1.Channel(k).ChannelType() == channel_types[i]:\n",
    "            #x-axes time values based on sampling rates\n",
    "            time = np.arange(len(data[k])) / sampleRates[k]\n",
    "\n",
    "            #Add data\n",
    "            fig.add_trace(go.Scatter(x=time, y=data[k],\n",
    "                                mode=\"lines\",\n",
    "                                name=names[k]),\n",
    "                                row=i+1,\n",
    "                                col=1\n",
    "            )\n",
    "            # Set y-axes titles\n",
    "            fig.update_yaxes(title_text=units[k],\n",
    "                row=i+1,\n",
    "                col=1\n",
    "            )\n",
    "\n",
    "fig.update_xaxes(title_text=\"Time (s)\", row=len(channel_types), col=1)\n",
    "fig.show()"
   ]
  }
 ],
 "metadata": {
  "kernelspec": {
   "display_name": "Python 3.7.9 64-bit",
   "language": "python",
   "name": "python3"
  },
  "language_info": {
   "codemirror_mode": {
    "name": "ipython",
    "version": 3
   },
   "file_extension": ".py",
   "mimetype": "text/x-python",
   "name": "python",
   "nbconvert_exporter": "python",
   "pygments_lexer": "ipython3",
   "version": "3.8.10"
  },
  "vscode": {
   "interpreter": {
    "hash": "a70e5694d81f0c0451ce0e9165e61fd817de500b83440b3ad8ae613c204518a8"
   }
  }
 },
 "nbformat": 4,
 "nbformat_minor": 2
}
